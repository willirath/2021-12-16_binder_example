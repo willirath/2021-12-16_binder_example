{
 "cells": [
  {
   "cell_type": "code",
   "execution_count": 4,
   "id": "fff1d2c5-d2b6-4b73-9b16-078ae0a8d715",
   "metadata": {},
   "outputs": [],
   "source": [
    "import numpy as np"
   ]
  },
  {
   "cell_type": "code",
   "execution_count": 5,
   "id": "285c8ef5-bf8b-41ee-929c-1cdfc3dd4420",
   "metadata": {},
   "outputs": [],
   "source": [
    "def calc_pi(n=10_000):\n",
    "    xy = np.random.uniform(0, 1, size=(n, 2))\n",
    "    r2 = (xy ** 2).sum(axis=-1)\n",
    "    pi = 4.0 * (r2 < 1).mean()\n",
    "    return pi"
   ]
  },
  {
   "cell_type": "code",
   "execution_count": 9,
   "id": "2dda7548-e161-4bc6-b31b-03bef4afa352",
   "metadata": {},
   "outputs": [
    {
     "data": {
      "text/plain": [
       "3.1411928"
      ]
     },
     "execution_count": 9,
     "metadata": {},
     "output_type": "execute_result"
    }
   ],
   "source": [
    "calc_pi(10_000_000)"
   ]
  },
  {
   "cell_type": "code",
   "execution_count": null,
   "id": "724cf20a-b6d5-477d-a47e-5cf5f298dbf2",
   "metadata": {},
   "outputs": [],
   "source": []
  }
 ],
 "metadata": {
  "kernelspec": {
   "display_name": "Python 3 (ipykernel)",
   "language": "python",
   "name": "python3"
  },
  "language_info": {
   "codemirror_mode": {
    "name": "ipython",
    "version": 3
   },
   "file_extension": ".py",
   "mimetype": "text/x-python",
   "name": "python",
   "nbconvert_exporter": "python",
   "pygments_lexer": "ipython3",
   "version": "3.9.7"
  }
 },
 "nbformat": 4,
 "nbformat_minor": 5
}
